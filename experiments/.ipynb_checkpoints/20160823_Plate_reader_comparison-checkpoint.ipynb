{
 "metadata": {
  "name": "",
  "signature": "sha256:97f93a9a622f956292390dc24e5332064c71f88daab0b82c3a62e5df93df42f1"
 },
 "nbformat": 3,
 "nbformat_minor": 0,
 "worksheets": []
}